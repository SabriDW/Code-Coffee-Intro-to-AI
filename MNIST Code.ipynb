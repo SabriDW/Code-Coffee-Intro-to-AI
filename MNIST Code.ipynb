{
  "cells": [
    {
      "cell_type": "markdown",
      "metadata": {
        "id": "zmaomkSCwwpD"
      },
      "source": [
        "# Building a Handwritten Digit Classifier with scikit-learn\n",
        "\n",
        "{{ badge }}\n",
        "\n",
        "This Jupyter/Colab notebook is designed as an interactive hands-on exercise to complement the \"Demystifying AI - An Introduction to AI, ML, and DL\" talk. We will be using the scikit-learn library to create a model that can classify handwritten digits from the MNIST dataset.\n",
        "\n",
        "**Key Learning Objectives:**\n",
        "- Understand the practical application of machine learning concepts discussed in the talk.\n",
        "- Get familiar with the process of training a machine learning model using scikit-learn.\n",
        "- Explore the MNIST dataset and learn about classification tasks in machine learning.\n"
      ]
    },
    {
      "cell_type": "markdown",
      "metadata": {
        "id": "xyDi0A1U-OEu"
      },
      "source": [
        "## Exercise Overview\n",
        "\n",
        "In this exercise, we will go through the essential steps of a machine learning project: loading data, preprocessing, model training, and evaluation. We will be working with the MNIST dataset, a classic in the machine learning community, often considered as the \"Hello World\" of machine learning.\n",
        "\n",
        "**MNIST Dataset:**\n",
        "- Comprises 70,000 images of handwritten digits (0-9).\n",
        "- Each image is a 28x28 pixel grayscale representation of a digit.\n",
        "- Commonly used for training various image processing systems.\n",
        "\n",
        "**Model Building:**\n",
        "- We will use scikit-learn, a powerful and easy-to-use Python library for machine learning.\n",
        "- Our focus will be on creating a simple classifier to recognize handwritten digits.\n",
        "- We will review and apply concepts like data splitting, training a model, making predictions, and evaluating model performance.\n",
        "\n",
        "**What You Will Learn:**\n",
        "- How to interact with datasets in a machine learning workflow.\n",
        "- The process of training a classifier with scikit-learn.\n",
        "- Evaluating the accuracy and effectiveness of a machine learning model.\n",
        "\n",
        "*Note: This notebook assumes basic familiarity with Python programming and Jupyter/Colab environments.*\n",
        "\n",
        "Let's dive into the world of machine learning with a hands-on approach!\n"
      ]
    },
    {
      "cell_type": "markdown",
      "metadata": {
        "id": "pFo9Tvit_VSl"
      },
      "source": [
        "## 1. Imports\n",
        "\n",
        "Import necessary libraries for handling data, creating a model, and visualizing the results."
      ]
    },
    {
      "cell_type": "code",
      "execution_count": 2,
      "metadata": {
        "id": "vlX1-hxxwwpE"
      },
      "outputs": [],
      "source": [
        "# Import matplotlib for data visualization\n",
        "import matplotlib.pyplot as plt\n",
        "\n",
        "# Import scikit-learn for machine learning functionalities\n",
        "from sklearn import datasets, metrics\n",
        "from sklearn.model_selection import train_test_split\n",
        "from sklearn.svm import SVC"
      ]
    },
    {
      "cell_type": "markdown",
      "metadata": {
        "id": "5oqV6PyiwwpE"
      },
      "source": [
        "## 2. Load & Visualize Data\n",
        "\n",
        "Load the MNIST dataset and visualize a few samples."
      ]
    },
    {
      "cell_type": "code",
      "execution_count": 21,
      "metadata": {
        "id": "Jatnhw5ACSP2"
      },
      "outputs": [],
      "source": [
        "# Define a function to visualize the digits\n",
        "def visualize_digits(dataset):\n",
        "    _, axes = plt.subplots(1, 4, figsize=(10, 3))\n",
        "    for ax, image, label in zip(axes, dataset.images, dataset.target):\n",
        "        ax.set_axis_off()\n",
        "        ax.imshow(image, cmap=plt.cm.gray_r, interpolation='nearest')\n",
        "        ax.set_title('Training: %i' % label)"
      ]
    },
    {
      "cell_type": "code",
      "execution_count": 22,
      "metadata": {
        "colab": {
          "base_uri": "https://localhost:8080/",
          "height": 227
        },
        "id": "pznYwh50wwpE",
        "outputId": "f76cf7ff-8a8a-4d6c-8415-4da17df8d248"
      },
      "outputs": [
        {
          "data": {
            "image/png": "[encoded data removed]",
            "text/plain": [
              "<Figure size 1000x300 with 4 Axes>"
            ]
          },
          "metadata": {},
          "output_type": "display_data"
        }
      ],
      "source": [
        "# Load the MNIST dataset\n",
        "mnist = datasets.load_digits()\n",
        "\n",
        "# Visualize the dataset\n",
        "visualize_digits(mnist)"
      ]
    },
    {
      "cell_type": "markdown",
      "metadata": {
        "id": "Ig50LKoTwwpE"
      },
      "source": [
        "## 3. Prepare the data\n",
        "\n",
        "Prepare the data for training by splitting it into training and test sets."
      ]
    },
    {
      "cell_type": "code",
      "execution_count": 23,
      "metadata": {
        "id": "VWTXQkf9wwpF"
      },
      "outputs": [],
      "source": [
        "# Splitting data into training and test sets\n",
        "X_train, X_test, y_train, y_test = train_test_split(mnist.data, mnist.target, test_size=0.5)\n"
      ]
    },
    {
      "cell_type": "markdown",
      "metadata": {
        "id": "HuoieIHgwwpF"
      },
      "source": [
        "## 4. Define and Train Model\n",
        "\n",
        "Define a Support Vector Classifier (SVC) model and train it with the training data.\n"
      ]
    },
    {
      "cell_type": "code",
      "execution_count": 24,
      "metadata": {
        "colab": {
          "base_uri": "https://localhost:8080/",
          "height": 75
        },
        "id": "frVPW6NAwwpF",
        "outputId": "1d94f984-ddb7-4e44-d97f-4db8cd1ee5e3"
      },
      "outputs": [
        {
          "data": {
            "text/html": [
              "<style>#sk-container-id-2 {color: black;background-color: white;}#sk-container-id-2 pre{padding: 0;}#sk-container-id-2 div.sk-toggleable {background-color: white;}#sk-container-id-2 label.sk-toggleable__label {cursor: pointer;display: block;width: 100%;margin-bottom: 0;padding: 0.3em;box-sizing: border-box;text-align: center;}#sk-container-id-2 label.sk-toggleable__label-arrow:before {content: \"▸\";float: left;margin-right: 0.25em;color: #696969;}#sk-container-id-2 label.sk-toggleable__label-arrow:hover:before {color: black;}#sk-container-id-2 div.sk-estimator:hover label.sk-toggleable__label-arrow:before {color: black;}#sk-container-id-2 div.sk-toggleable__content {max-height: 0;max-width: 0;overflow: hidden;text-align: left;background-color: #f0f8ff;}#sk-container-id-2 div.sk-toggleable__content pre {margin: 0.2em;color: black;border-radius: 0.25em;background-color: #f0f8ff;}#sk-container-id-2 input.sk-toggleable__control:checked~div.sk-toggleable__content {max-height: 200px;max-width: 100%;overflow: auto;}#sk-container-id-2 input.sk-toggleable__control:checked~label.sk-toggleable__label-arrow:before {content: \"▾\";}#sk-container-id-2 div.sk-estimator input.sk-toggleable__control:checked~label.sk-toggleable__label {background-color: #d4ebff;}#sk-container-id-2 div.sk-label input.sk-toggleable__control:checked~label.sk-toggleable__label {background-color: #d4ebff;}#sk-container-id-2 input.sk-hidden--visually {border: 0;clip: rect(1px 1px 1px 1px);clip: rect(1px, 1px, 1px, 1px);height: 1px;margin: -1px;overflow: hidden;padding: 0;position: absolute;width: 1px;}#sk-container-id-2 div.sk-estimator {font-family: monospace;background-color: #f0f8ff;border: 1px dotted black;border-radius: 0.25em;box-sizing: border-box;margin-bottom: 0.5em;}#sk-container-id-2 div.sk-estimator:hover {background-color: #d4ebff;}#sk-container-id-2 div.sk-parallel-item::after {content: \"\";width: 100%;border-bottom: 1px solid gray;flex-grow: 1;}#sk-container-id-2 div.sk-label:hover label.sk-toggleable__label {background-color: #d4ebff;}#sk-container-id-2 div.sk-serial::before {content: \"\";position: absolute;border-left: 1px solid gray;box-sizing: border-box;top: 0;bottom: 0;left: 50%;z-index: 0;}#sk-container-id-2 div.sk-serial {display: flex;flex-direction: column;align-items: center;background-color: white;padding-right: 0.2em;padding-left: 0.2em;position: relative;}#sk-container-id-2 div.sk-item {position: relative;z-index: 1;}#sk-container-id-2 div.sk-parallel {display: flex;align-items: stretch;justify-content: center;background-color: white;position: relative;}#sk-container-id-2 div.sk-item::before, #sk-container-id-2 div.sk-parallel-item::before {content: \"\";position: absolute;border-left: 1px solid gray;box-sizing: border-box;top: 0;bottom: 0;left: 50%;z-index: -1;}#sk-container-id-2 div.sk-parallel-item {display: flex;flex-direction: column;z-index: 1;position: relative;background-color: white;}#sk-container-id-2 div.sk-parallel-item:first-child::after {align-self: flex-end;width: 50%;}#sk-container-id-2 div.sk-parallel-item:last-child::after {align-self: flex-start;width: 50%;}#sk-container-id-2 div.sk-parallel-item:only-child::after {width: 0;}#sk-container-id-2 div.sk-dashed-wrapped {border: 1px dashed gray;margin: 0 0.4em 0.5em 0.4em;box-sizing: border-box;padding-bottom: 0.4em;background-color: white;}#sk-container-id-2 div.sk-label label {font-family: monospace;font-weight: bold;display: inline-block;line-height: 1.2em;}#sk-container-id-2 div.sk-label-container {text-align: center;}#sk-container-id-2 div.sk-container {/* jupyter's `normalize.less` sets `[hidden] { display: none; }` but bootstrap.min.css set `[hidden] { display: none !important; }` so we also need the `!important` here to be able to override the default hidden behavior on the sphinx rendered scikit-learn.org. See: https://github.com/scikit-learn/scikit-learn/issues/21755 */display: inline-block !important;position: relative;}#sk-container-id-2 div.sk-text-repr-fallback {display: none;}</style><div id=\"sk-container-id-2\" class=\"sk-top-container\"><div class=\"sk-text-repr-fallback\"><pre>SVC()</pre><b>In a Jupyter environment, please rerun this cell to show the HTML representation or trust the notebook. <br />On GitHub, the HTML representation is unable to render, please try loading this page with nbviewer.org.</b></div><div class=\"sk-container\" hidden><div class=\"sk-item\"><div class=\"sk-estimator sk-toggleable\"><input class=\"sk-toggleable__control sk-hidden--visually\" id=\"sk-estimator-id-2\" type=\"checkbox\" checked><label for=\"sk-estimator-id-2\" class=\"sk-toggleable__label sk-toggleable__label-arrow\">SVC</label><div class=\"sk-toggleable__content\"><pre>SVC()</pre></div></div></div></div></div>"
            ],
            "text/plain": [
              "SVC()"
            ]
          },
          "execution_count": 24,
          "metadata": {},
          "output_type": "execute_result"
        }
      ],
      "source": [
        "model = SVC()\n",
        "model.fit(X_train, y_train)"
      ]
    },
    {
      "cell_type": "markdown",
      "metadata": {
        "id": "Zw_yzjn7wwpF"
      },
      "source": [
        "## 5. Evaluate Model\n",
        "\n",
        "Evaluate the model's performance on the test data using metrics and a confusion matrix."
      ]
    },
    {
      "cell_type": "code",
      "execution_count": 25,
      "metadata": {
        "colab": {
          "base_uri": "https://localhost:8080/",
          "height": 792
        },
        "id": "gOgNbN6dwwpF",
        "outputId": "7d07a5ea-723c-4aab-c23c-c13b458786ca"
      },
      "outputs": [
        {
          "name": "stdout",
          "output_type": "stream",
          "text": [
            "              precision    recall  f1-score   support\n",
            "\n",
            "           0       1.00      1.00      1.00        83\n",
            "           1       0.97      0.99      0.98        93\n",
            "           2       1.00      0.99      0.99        82\n",
            "           3       1.00      0.97      0.98        87\n",
            "           4       1.00      0.99      0.99        91\n",
            "           5       0.98      0.98      0.98        97\n",
            "           6       0.99      1.00      0.99        89\n",
            "           7       0.99      0.99      0.99        89\n",
            "           8       0.95      0.97      0.96        93\n",
            "           9       0.97      0.97      0.97        95\n",
            "\n",
            "    accuracy                           0.98       899\n",
            "   macro avg       0.98      0.98      0.98       899\n",
            "weighted avg       0.98      0.98      0.98       899\n",
            "\n"
          ]
        },
        {
          "data": {
            "image/png": "[encoded data removed]",
            "text/plain": [
              "<Figure size 640x480 with 2 Axes>"
            ]
          },
          "metadata": {},
          "output_type": "display_data"
        }
      ],
      "source": [
        "# Predicting labels for the test set\n",
        "predicted = model.predict(X_test)\n",
        "\n",
        "# Evaluation metrics\n",
        "print(metrics.classification_report(y_test, predicted))\n",
        "\n",
        "# Confusion Matrix\n",
        "disp = metrics.ConfusionMatrixDisplay.from_predictions(y_test, predicted)\n",
        "disp.figure_.suptitle(\"Confusion Matrix\")\n",
        "plt.show()"
      ]
    },
    {
      "cell_type": "markdown",
      "metadata": {
        "id": "ttuTPwaZwwpF"
      },
      "source": [
        "## 6. Visualize Sample Predictions\n",
        "\n",
        "Visualize sample predictions by the model on test data.\n"
      ]
    },
    {
      "cell_type": "code",
      "execution_count": 38,
      "metadata": {
        "id": "Q4tAebWRC8Bh"
      },
      "outputs": [],
      "source": [
        "# Define a function to visualize model predictions\n",
        "def visualize_predictions(samples, predictions):\n",
        "    fig, axes = plt.subplots(1, num_samples, figsize=(10, 3))\n",
        "\n",
        "    for ax, image, prediction in zip(axes, samples, predictions):\n",
        "        ax.imshow(image.reshape(8, 8), cmap=plt.cm.gray_r, interpolation='nearest')\n",
        "        ax.set_title(f'Prediction: {prediction}')\n",
        "        ax.set_axis_off()"
      ]
    },
    {
      "cell_type": "code",
      "execution_count": 42,
      "metadata": {
        "colab": {
          "base_uri": "https://localhost:8080/",
          "height": 192
        },
        "id": "VzDo_j2EwwpF",
        "outputId": "5884a027-4012-4af9-e0af-b2d03369ce4c"
      },
      "outputs": [
        {
          "data": {
            "image/png": "[encoded data removed]",
            "text/plain": [
              "<Figure size 1000x300 with 5 Axes>"
            ]
          },
          "metadata": {},
          "output_type": "display_data"
        }
      ],
      "source": [
        "# Selecting a few sample images\n",
        "num_samples = 5\n",
        "samples = X_test[:num_samples]\n",
        "labels = model.predict(X_test)\n",
        "\n",
        "visualize_predictions(samples, labels)"
      ]
    },
    {
      "cell_type": "code",
      "execution_count": null,
      "metadata": {
        "id": "0g3g9pybFcPn"
      },
      "outputs": [],
      "source": []
    }
  ],
  "metadata": {
    "colab": {
      "provenance": []
    },
    "kernelspec": {
      "display_name": "Python 3",
      "language": "python",
      "name": "python3"
    },
    "language_info": {
      "codemirror_mode": {
        "name": "ipython",
        "version": 3
      },
      "file_extension": ".py",
      "mimetype": "text/x-python",
      "name": "python",
      "nbconvert_exporter": "python",
      "pygments_lexer": "ipython3",
      "version": "3.9.18"
    }
  },
  "nbformat": 4,
  "nbformat_minor": 0
}
